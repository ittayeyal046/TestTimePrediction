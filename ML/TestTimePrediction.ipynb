{
 "cells": [
  {
   "cell_type": "code",
   "execution_count": 37,
   "metadata": {},
   "outputs": [],
   "source": [
    "import pandas as pd\n",
    "import numpy as np\n",
    "import seaborn as sb\n",
    "import pylab as py"
   ]
  },
  {
   "cell_type": "code",
   "execution_count": 38,
   "metadata": {},
   "outputs": [],
   "source": [
    "df=pd.read_csv('./TestPredictionResults_23-02-07_05-06-53.csv')"
   ]
  },
  {
   "cell_type": "code",
   "execution_count": 39,
   "metadata": {},
   "outputs": [
    {
     "data": {
      "text/html": [
       "<div>\n",
       "<style scoped>\n",
       "    .dataframe tbody tr th:only-of-type {\n",
       "        vertical-align: middle;\n",
       "    }\n",
       "\n",
       "    .dataframe tbody tr th {\n",
       "        vertical-align: top;\n",
       "    }\n",
       "\n",
       "    .dataframe thead th {\n",
       "        text-align: right;\n",
       "    }\n",
       "</style>\n",
       "<table border=\"1\" class=\"dataframe\">\n",
       "  <thead>\n",
       "    <tr style=\"text-align: right;\">\n",
       "      <th></th>\n",
       "      <th>TestProgram_Name_NA</th>\n",
       "      <th>Family</th>\n",
       "      <th>SubFamily</th>\n",
       "      <th>IsConcurrent</th>\n",
       "      <th>Patterns_Count</th>\n",
       "      <th>Tests_And_Mttx3_Count</th>\n",
       "      <th>ConcurrentFlows_Count</th>\n",
       "      <th>Shmoo_tests_count</th>\n",
       "      <th>ITuff_Temperature_NA</th>\n",
       "      <th>ITuff_SubmitterFullName_NA</th>\n",
       "      <th>ITuff_Lot_NA</th>\n",
       "      <th>ituff_EndDate_NA</th>\n",
       "      <th>ITuff_PartType</th>\n",
       "      <th>ITuff_BomGroup</th>\n",
       "      <th>ITuff_ProcessStep</th>\n",
       "      <th>ITuff_ExperimentType</th>\n",
       "      <th>ituff_PerUnit_testTimeInMS</th>\n",
       "    </tr>\n",
       "  </thead>\n",
       "  <tbody>\n",
       "    <tr>\n",
       "      <th>0</th>\n",
       "      <td>RPLP282_IDUT</td>\n",
       "      <td>RPL</td>\n",
       "      <td>CLASS_RPLP282</td>\n",
       "      <td>False</td>\n",
       "      <td>14866</td>\n",
       "      <td>13478</td>\n",
       "      <td>0</td>\n",
       "      <td>519</td>\n",
       "      <td>25</td>\n",
       "      <td>Bora, Ashish</td>\n",
       "      <td>Y246019CR</td>\n",
       "      <td>07/11/2022 22:01:00</td>\n",
       "      <td>H64ASLFVQ</td>\n",
       "      <td>CLASS_RPLP282</td>\n",
       "      <td>FUSE</td>\n",
       "      <td>Correlation</td>\n",
       "      <td>176</td>\n",
       "    </tr>\n",
       "    <tr>\n",
       "      <th>1</th>\n",
       "      <td>RPLP282_IDUT</td>\n",
       "      <td>RPL</td>\n",
       "      <td>CLASS_RPLP282</td>\n",
       "      <td>False</td>\n",
       "      <td>14866</td>\n",
       "      <td>13478</td>\n",
       "      <td>0</td>\n",
       "      <td>519</td>\n",
       "      <td>25</td>\n",
       "      <td>Bora, Ashish</td>\n",
       "      <td>Y246019CR</td>\n",
       "      <td>07/11/2022 22:01:00</td>\n",
       "      <td>H64ASLFVQ</td>\n",
       "      <td>CLASS_RPLP282</td>\n",
       "      <td>FUSE</td>\n",
       "      <td>Correlation</td>\n",
       "      <td>643</td>\n",
       "    </tr>\n",
       "    <tr>\n",
       "      <th>2</th>\n",
       "      <td>RPLP282_IDUT</td>\n",
       "      <td>RPL</td>\n",
       "      <td>CLASS_RPLP282</td>\n",
       "      <td>False</td>\n",
       "      <td>14866</td>\n",
       "      <td>13478</td>\n",
       "      <td>0</td>\n",
       "      <td>519</td>\n",
       "      <td>100</td>\n",
       "      <td>Bora, Ashish</td>\n",
       "      <td>Y246028CR</td>\n",
       "      <td>07/11/2022 22:47:51</td>\n",
       "      <td>H64ASLFVQ</td>\n",
       "      <td>CLASS_RPLP282</td>\n",
       "      <td>CLASSHOT</td>\n",
       "      <td>Correlation</td>\n",
       "      <td>214</td>\n",
       "    </tr>\n",
       "    <tr>\n",
       "      <th>3</th>\n",
       "      <td>RPLP282_IDUT</td>\n",
       "      <td>RPL</td>\n",
       "      <td>CLASS_RPLP282</td>\n",
       "      <td>False</td>\n",
       "      <td>14866</td>\n",
       "      <td>13478</td>\n",
       "      <td>0</td>\n",
       "      <td>519</td>\n",
       "      <td>100</td>\n",
       "      <td>Bora, Ashish</td>\n",
       "      <td>Y246028CR</td>\n",
       "      <td>07/11/2022 22:47:51</td>\n",
       "      <td>H64ASLFVQ</td>\n",
       "      <td>CLASS_RPLP282</td>\n",
       "      <td>CLASSHOT</td>\n",
       "      <td>Correlation</td>\n",
       "      <td>333</td>\n",
       "    </tr>\n",
       "    <tr>\n",
       "      <th>4</th>\n",
       "      <td>RPLP282_IDUT</td>\n",
       "      <td>RPL</td>\n",
       "      <td>CLASS_RPLP282</td>\n",
       "      <td>False</td>\n",
       "      <td>14866</td>\n",
       "      <td>13478</td>\n",
       "      <td>0</td>\n",
       "      <td>519</td>\n",
       "      <td>-5</td>\n",
       "      <td>Bora, Ashish</td>\n",
       "      <td>Y246028CR</td>\n",
       "      <td>07/11/2022 23:11:14</td>\n",
       "      <td>H64ASLFVQ</td>\n",
       "      <td>CLASS_RPLP282</td>\n",
       "      <td>CLASSCOLD</td>\n",
       "      <td>Correlation</td>\n",
       "      <td>261</td>\n",
       "    </tr>\n",
       "  </tbody>\n",
       "</table>\n",
       "</div>"
      ],
      "text/plain": [
       "  TestProgram_Name_NA Family      SubFamily  IsConcurrent  Patterns_Count  \\\n",
       "0        RPLP282_IDUT    RPL  CLASS_RPLP282         False           14866   \n",
       "1        RPLP282_IDUT    RPL  CLASS_RPLP282         False           14866   \n",
       "2        RPLP282_IDUT    RPL  CLASS_RPLP282         False           14866   \n",
       "3        RPLP282_IDUT    RPL  CLASS_RPLP282         False           14866   \n",
       "4        RPLP282_IDUT    RPL  CLASS_RPLP282         False           14866   \n",
       "\n",
       "   Tests_And_Mttx3_Count  ConcurrentFlows_Count  Shmoo_tests_count  \\\n",
       "0                  13478                      0                519   \n",
       "1                  13478                      0                519   \n",
       "2                  13478                      0                519   \n",
       "3                  13478                      0                519   \n",
       "4                  13478                      0                519   \n",
       "\n",
       "   ITuff_Temperature_NA ITuff_SubmitterFullName_NA ITuff_Lot_NA  \\\n",
       "0                    25               Bora, Ashish    Y246019CR   \n",
       "1                    25               Bora, Ashish    Y246019CR   \n",
       "2                   100               Bora, Ashish    Y246028CR   \n",
       "3                   100               Bora, Ashish    Y246028CR   \n",
       "4                    -5               Bora, Ashish    Y246028CR   \n",
       "\n",
       "      ituff_EndDate_NA ITuff_PartType ITuff_BomGroup ITuff_ProcessStep  \\\n",
       "0  07/11/2022 22:01:00      H64ASLFVQ  CLASS_RPLP282              FUSE   \n",
       "1  07/11/2022 22:01:00      H64ASLFVQ  CLASS_RPLP282              FUSE   \n",
       "2  07/11/2022 22:47:51      H64ASLFVQ  CLASS_RPLP282          CLASSHOT   \n",
       "3  07/11/2022 22:47:51      H64ASLFVQ  CLASS_RPLP282          CLASSHOT   \n",
       "4  07/11/2022 23:11:14      H64ASLFVQ  CLASS_RPLP282         CLASSCOLD   \n",
       "\n",
       "  ITuff_ExperimentType  ituff_PerUnit_testTimeInMS  \n",
       "0          Correlation                         176  \n",
       "1          Correlation                         643  \n",
       "2          Correlation                         214  \n",
       "3          Correlation                         333  \n",
       "4          Correlation                         261  "
      ]
     },
     "execution_count": 39,
     "metadata": {},
     "output_type": "execute_result"
    }
   ],
   "source": [
    "df.head()"
   ]
  },
  {
   "cell_type": "code",
   "execution_count": 40,
   "metadata": {},
   "outputs": [
    {
     "name": "stdout",
     "output_type": "stream",
     "text": [
      "<class 'pandas.core.frame.DataFrame'>\n",
      "RangeIndex: 1419 entries, 0 to 1418\n",
      "Data columns (total 17 columns):\n",
      " #   Column                      Non-Null Count  Dtype \n",
      "---  ------                      --------------  ----- \n",
      " 0   TestProgram_Name_NA         1419 non-null   object\n",
      " 1   Family                      1419 non-null   object\n",
      " 2   SubFamily                   1419 non-null   object\n",
      " 3   IsConcurrent                1419 non-null   bool  \n",
      " 4   Patterns_Count              1419 non-null   int64 \n",
      " 5   Tests_And_Mttx3_Count       1419 non-null   int64 \n",
      " 6   ConcurrentFlows_Count       1419 non-null   int64 \n",
      " 7   Shmoo_tests_count           1419 non-null   int64 \n",
      " 8   ITuff_Temperature_NA        1419 non-null   int64 \n",
      " 9   ITuff_SubmitterFullName_NA  1419 non-null   object\n",
      " 10  ITuff_Lot_NA                1419 non-null   object\n",
      " 11  ituff_EndDate_NA            1419 non-null   object\n",
      " 12  ITuff_PartType              1419 non-null   object\n",
      " 13  ITuff_BomGroup              1419 non-null   object\n",
      " 14  ITuff_ProcessStep           1419 non-null   object\n",
      " 15  ITuff_ExperimentType        1419 non-null   object\n",
      " 16  ituff_PerUnit_testTimeInMS  1419 non-null   int64 \n",
      "dtypes: bool(1), int64(6), object(10)\n",
      "memory usage: 178.9+ KB\n"
     ]
    }
   ],
   "source": [
    "df.info()"
   ]
  },
  {
   "cell_type": "code",
   "execution_count": 41,
   "metadata": {},
   "outputs": [
    {
     "data": {
      "text/html": [
       "<div>\n",
       "<style scoped>\n",
       "    .dataframe tbody tr th:only-of-type {\n",
       "        vertical-align: middle;\n",
       "    }\n",
       "\n",
       "    .dataframe tbody tr th {\n",
       "        vertical-align: top;\n",
       "    }\n",
       "\n",
       "    .dataframe thead th {\n",
       "        text-align: right;\n",
       "    }\n",
       "</style>\n",
       "<table border=\"1\" class=\"dataframe\">\n",
       "  <thead>\n",
       "    <tr style=\"text-align: right;\">\n",
       "      <th></th>\n",
       "      <th>Patterns_Count</th>\n",
       "      <th>Tests_And_Mttx3_Count</th>\n",
       "      <th>ConcurrentFlows_Count</th>\n",
       "      <th>Shmoo_tests_count</th>\n",
       "      <th>ITuff_Temperature_NA</th>\n",
       "      <th>ituff_PerUnit_testTimeInMS</th>\n",
       "    </tr>\n",
       "  </thead>\n",
       "  <tbody>\n",
       "    <tr>\n",
       "      <th>count</th>\n",
       "      <td>1419.000000</td>\n",
       "      <td>1419.000000</td>\n",
       "      <td>1419.0</td>\n",
       "      <td>1419.000000</td>\n",
       "      <td>1419.000000</td>\n",
       "      <td>1419.000000</td>\n",
       "    </tr>\n",
       "    <tr>\n",
       "      <th>mean</th>\n",
       "      <td>8914.889359</td>\n",
       "      <td>788.751233</td>\n",
       "      <td>0.0</td>\n",
       "      <td>20.593376</td>\n",
       "      <td>44.415081</td>\n",
       "      <td>478.959831</td>\n",
       "    </tr>\n",
       "    <tr>\n",
       "      <th>std</th>\n",
       "      <td>4243.930993</td>\n",
       "      <td>2387.291727</td>\n",
       "      <td>0.0</td>\n",
       "      <td>91.777819</td>\n",
       "      <td>49.597211</td>\n",
       "      <td>303.378146</td>\n",
       "    </tr>\n",
       "    <tr>\n",
       "      <th>min</th>\n",
       "      <td>487.000000</td>\n",
       "      <td>0.000000</td>\n",
       "      <td>0.0</td>\n",
       "      <td>0.000000</td>\n",
       "      <td>-5.000000</td>\n",
       "      <td>0.000000</td>\n",
       "    </tr>\n",
       "    <tr>\n",
       "      <th>25%</th>\n",
       "      <td>10715.000000</td>\n",
       "      <td>0.000000</td>\n",
       "      <td>0.0</td>\n",
       "      <td>0.000000</td>\n",
       "      <td>0.000000</td>\n",
       "      <td>192.500000</td>\n",
       "    </tr>\n",
       "    <tr>\n",
       "      <th>50%</th>\n",
       "      <td>10715.000000</td>\n",
       "      <td>0.000000</td>\n",
       "      <td>0.0</td>\n",
       "      <td>0.000000</td>\n",
       "      <td>0.000000</td>\n",
       "      <td>473.000000</td>\n",
       "    </tr>\n",
       "    <tr>\n",
       "      <th>75%</th>\n",
       "      <td>10715.000000</td>\n",
       "      <td>0.000000</td>\n",
       "      <td>0.0</td>\n",
       "      <td>0.000000</td>\n",
       "      <td>95.000000</td>\n",
       "      <td>751.500000</td>\n",
       "    </tr>\n",
       "    <tr>\n",
       "      <th>max</th>\n",
       "      <td>14877.000000</td>\n",
       "      <td>13478.000000</td>\n",
       "      <td>0.0</td>\n",
       "      <td>519.000000</td>\n",
       "      <td>100.000000</td>\n",
       "      <td>997.000000</td>\n",
       "    </tr>\n",
       "  </tbody>\n",
       "</table>\n",
       "</div>"
      ],
      "text/plain": [
       "       Patterns_Count  Tests_And_Mttx3_Count  ConcurrentFlows_Count  \\\n",
       "count     1419.000000            1419.000000                 1419.0   \n",
       "mean      8914.889359             788.751233                    0.0   \n",
       "std       4243.930993            2387.291727                    0.0   \n",
       "min        487.000000               0.000000                    0.0   \n",
       "25%      10715.000000               0.000000                    0.0   \n",
       "50%      10715.000000               0.000000                    0.0   \n",
       "75%      10715.000000               0.000000                    0.0   \n",
       "max      14877.000000           13478.000000                    0.0   \n",
       "\n",
       "       Shmoo_tests_count  ITuff_Temperature_NA  ituff_PerUnit_testTimeInMS  \n",
       "count        1419.000000           1419.000000                 1419.000000  \n",
       "mean           20.593376             44.415081                  478.959831  \n",
       "std            91.777819             49.597211                  303.378146  \n",
       "min             0.000000             -5.000000                    0.000000  \n",
       "25%             0.000000              0.000000                  192.500000  \n",
       "50%             0.000000              0.000000                  473.000000  \n",
       "75%             0.000000             95.000000                  751.500000  \n",
       "max           519.000000            100.000000                  997.000000  "
      ]
     },
     "execution_count": 41,
     "metadata": {},
     "output_type": "execute_result"
    }
   ],
   "source": [
    "df.describe()"
   ]
  },
  {
   "cell_type": "code",
   "execution_count": 42,
   "metadata": {},
   "outputs": [
    {
     "data": {
      "text/plain": [
       "True     1075\n",
       "False     344\n",
       "Name: IsConcurrent, dtype: int64"
      ]
     },
     "execution_count": 42,
     "metadata": {},
     "output_type": "execute_result"
    }
   ],
   "source": [
    "df.IsConcurrent.value_counts()"
   ]
  },
  {
   "cell_type": "code",
   "execution_count": 43,
   "metadata": {},
   "outputs": [
    {
     "data": {
      "text/plain": [
       " 0      481\n",
       " 100    331\n",
       " 95     329\n",
       "-5      276\n",
       " 25       2\n",
       "Name: ITuff_Temperature_NA, dtype: int64"
      ]
     },
     "execution_count": 43,
     "metadata": {},
     "output_type": "execute_result"
    }
   ],
   "source": [
    "df.ITuff_Temperature_NA.value_counts()"
   ]
  },
  {
   "cell_type": "code",
   "execution_count": 45,
   "metadata": {},
   "outputs": [],
   "source": [
    "df = df.drop('ITuff_SubmitterFullName_NA', axis=1)"
   ]
  },
  {
   "cell_type": "code",
   "execution_count": null,
   "metadata": {},
   "outputs": [],
   "source": [
    "#sb.pairplot(df)"
   ]
  },
  {
   "cell_type": "code",
   "execution_count": null,
   "metadata": {},
   "outputs": [],
   "source": [
    "df1 = pd.get_dummies(df, columns=['TestProgram_BomGroup'])"
   ]
  },
  {
   "cell_type": "code",
   "execution_count": null,
   "metadata": {},
   "outputs": [],
   "source": [
    "df2 = pd.get_dummies(df1, columns=['TestProgram_BomGroup'])"
   ]
  },
  {
   "cell_type": "code",
   "execution_count": null,
   "metadata": {},
   "outputs": [],
   "source": []
  }
 ],
 "metadata": {
  "kernelspec": {
   "display_name": "Python 3",
   "language": "python",
   "name": "python3"
  },
  "language_info": {
   "codemirror_mode": {
    "name": "ipython",
    "version": 3
   },
   "file_extension": ".py",
   "mimetype": "text/x-python",
   "name": "python",
   "nbconvert_exporter": "python",
   "pygments_lexer": "ipython3",
   "version": "3.9.13 (main, Aug 25 2022, 23:51:50) [MSC v.1916 64 bit (AMD64)]"
  },
  "orig_nbformat": 4,
  "vscode": {
   "interpreter": {
    "hash": "48b6482f9a3a46efec4f3e0075af4609f017c499e70ce8a0ae857aed78d3a97e"
   }
  }
 },
 "nbformat": 4,
 "nbformat_minor": 2
}
